{
  "nbformat": 4,
  "nbformat_minor": 0,
  "metadata": {
    "colab": {
      "name": "PythonDataStructure.ipynb",
      "provenance": [],
      "toc_visible": true
    },
    "kernelspec": {
      "name": "python3",
      "display_name": "Python 3"
    }
  },
  "cells": [
    {
      "cell_type": "markdown",
      "metadata": {
        "id": "29Aw1796Cdn3",
        "colab_type": "text"
      },
      "source": [
        "## Python Data Structure"
      ]
    },
    {
      "cell_type": "markdown",
      "metadata": {
        "id": "g03J0pCMLpr5",
        "colab_type": "text"
      },
      "source": [
        "## ☆ String\n",
        "- access: \n",
        "- append: \n",
        "- pop: \n",
        "- insert: \n",
        "- delete: \n",
        "- iterate: "
      ]
    },
    {
      "cell_type": "code",
      "metadata": {
        "id": "LQCx1PWWLwPD",
        "colab_type": "code",
        "outputId": "7ff1eebb-567b-469f-fa55-7d20e0e583a8",
        "colab": {
          "base_uri": "https://localhost:8080/",
          "height": 153
        }
      },
      "source": [
        "a = \"abc\"\n",
        "b = 'efg'\n",
        "print(a+b)\n",
        "text = 'rkwehjt; sdkjtdlewkl'\n",
        "print(text.split('t')) # by \"t\"\n",
        "print(text.split()) # by space\n",
        "\n",
        "lowercase = text.lower()\n",
        "upper = text.upper()\n",
        "print(upper)\n",
        "\n",
        "print(text.find(';'))\n",
        "print(text.count(';'))\n",
        "\n",
        "print(text.replace(\"rk\", \"@@\"))"
      ],
      "execution_count": 0,
      "outputs": [
        {
          "output_type": "stream",
          "text": [
            "abcefg\n",
            "['rkwehj', '; sdkj', 'dlewkl']\n",
            "['rkwehjt;', 'sdkjtdlewkl']\n",
            "RKWEHJT; SDKJTDLEWKL\n",
            "7\n",
            "1\n",
            "@@wehjt; sdkjtdlewkl\n",
            "rkwehjt; sdkjtdlewkl\n"
          ],
          "name": "stdout"
        }
      ]
    },
    {
      "cell_type": "code",
      "metadata": {
        "id": "RhhPykBf2f0e",
        "colab_type": "code",
        "outputId": "4c5ccb5d-462d-41cd-946e-5b0c1c7c7b5c",
        "colab": {
          "base_uri": "https://localhost:8080/",
          "height": 34
        }
      },
      "source": [
        "s = \"aaabbskdkzksd\"\n",
        "print(min(set(s), key = s.count))"
      ],
      "execution_count": 0,
      "outputs": [
        {
          "output_type": "stream",
          "text": [
            "z\n"
          ],
          "name": "stdout"
        }
      ]
    },
    {
      "cell_type": "markdown",
      "metadata": {
        "id": "_bDmY-gbILEo",
        "colab_type": "text"
      },
      "source": [
        "## ☆ List\n",
        "list是类似数组一样的动态表，而不是标准的数组形式，所以对于append操作是常数时间，而对于insert操作是线性时间的\n",
        "- search: O(1) in constant time\n",
        "- append: **O(1)**\n",
        "- pop: O(1)\n",
        "- insert: O(n)\n",
        "- delete: O(n)\n",
        "- iterate: O(n)\n",
        "\n",
        "\n"
      ]
    },
    {
      "cell_type": "code",
      "metadata": {
        "id": "sMrrs0DiKCM5",
        "colab_type": "code",
        "outputId": "090ec1ac-5cfe-4476-a32f-96fa89271995",
        "colab": {
          "base_uri": "https://localhost:8080/",
          "height": 102
        }
      },
      "source": [
        "a = [1, 2, 3, 4, 5]\n",
        "for (i, x) in enumerate(a):\n",
        "  print(i, x)"
      ],
      "execution_count": 0,
      "outputs": [
        {
          "output_type": "stream",
          "text": [
            "0 1\n",
            "1 2\n",
            "2 3\n",
            "3 4\n",
            "4 5\n"
          ],
          "name": "stdout"
        }
      ]
    },
    {
      "cell_type": "code",
      "metadata": {
        "id": "UIaP2XQ_wzvR",
        "colab_type": "code",
        "outputId": "a6ab1a9b-f6d9-4e12-b806-67a2d90b2b66",
        "colab": {
          "base_uri": "https://localhost:8080/",
          "height": 51
        }
      },
      "source": [
        "print(a.pop())\n",
        "print(a.pop())"
      ],
      "execution_count": 0,
      "outputs": [
        {
          "output_type": "stream",
          "text": [
            "5\n",
            "4\n"
          ],
          "name": "stdout"
        }
      ]
    },
    {
      "cell_type": "markdown",
      "metadata": {
        "id": "xDRkD9y0JiGf",
        "colab_type": "text"
      },
      "source": [
        "## ☆ Dictionary\n",
        "- get: O(1)\n",
        "- delete: O(1)\n",
        "- iterate: O(n)"
      ]
    },
    {
      "cell_type": "code",
      "metadata": {
        "id": "RBYY1zoHJv6n",
        "colab_type": "code",
        "outputId": "064e05c8-37e6-406c-bd3e-3c5402e1219f",
        "colab": {
          "base_uri": "https://localhost:8080/",
          "height": 68
        }
      },
      "source": [
        "d = {}\n",
        "d[1] = \"yes\"\n",
        "d['1'] = \"no\"\n",
        "print(d.keys()) # in tuple\n",
        "print(d.values())\n",
        "print(d.items())"
      ],
      "execution_count": 0,
      "outputs": [
        {
          "output_type": "stream",
          "text": [
            "dict_keys([1, '1'])\n",
            "dict_values(['yes', 'no'])\n",
            "dict_items([(1, 'yes'), ('1', 'no')])\n"
          ],
          "name": "stdout"
        }
      ]
    },
    {
      "cell_type": "markdown",
      "metadata": {
        "id": "5x0fiJ7kB9RL",
        "colab_type": "text"
      },
      "source": [
        "- **default dictionary** \n",
        "whenever you need a dictionary, and each element’s value should start with a default value, use a defaultdict\n"
      ]
    },
    {
      "cell_type": "code",
      "metadata": {
        "id": "iYJyMXC2B8Cb",
        "colab_type": "code",
        "outputId": "25c55193-ffed-425e-b96e-d99da636b807",
        "colab": {
          "base_uri": "https://localhost:8080/",
          "height": 34
        }
      },
      "source": [
        "from collections import defaultdict\n",
        "ice_cream = defaultdict(lambda: 'V')\n",
        "ice_cream['Sarah'] = 'Chunky Monkey'\n",
        "ice_cream['Abdul'] = 'Butter Pecan'\n",
        "print(ice_cream['Joe'])"
      ],
      "execution_count": 0,
      "outputs": [
        {
          "output_type": "stream",
          "text": [
            "V\n"
          ],
          "name": "stdout"
        }
      ]
    },
    {
      "cell_type": "code",
      "metadata": {
        "id": "4e-wOomQClW2",
        "colab_type": "code",
        "outputId": "932b5da4-533e-4664-9b95-d013c561d9b0",
        "colab": {
          "base_uri": "https://localhost:8080/",
          "height": 85
        }
      },
      "source": [
        "from collections import defaultdict\n",
        "city_list = [('TX','Austin'), ('TX','Houston'), ('NY','Albany'), ('NY', 'Syracuse'), ('NY', 'Buffalo'), ('NY', 'Rochester'), ('TX', 'Dallas'), ('CA','Sacramento'), ('CA', 'Palo Alto'), ('GA', 'Atlanta')]\n",
        "# define the default value of the dictionary as list\n",
        "cities_by_state = defaultdict(list)\n",
        "for state, city in city_list:\n",
        "     cities_by_state[state].append(city)\n",
        "\n",
        "for state, cities in cities_by_state.items():\n",
        "     print(state, ', '.join(cities))"
      ],
      "execution_count": 0,
      "outputs": [
        {
          "output_type": "stream",
          "text": [
            "TX Austin, Houston, Dallas\n",
            "NY Albany, Syracuse, Buffalo, Rochester\n",
            "CA Sacramento, Palo Alto\n",
            "GA Atlanta\n"
          ],
          "name": "stdout"
        }
      ]
    },
    {
      "cell_type": "markdown",
      "metadata": {
        "id": "T9eKt8e4Ff-q",
        "colab_type": "text"
      },
      "source": [
        "## ☆ Stack\n",
        "#### Last in/ First out (LIFO)\n",
        "- method 1: using list directly\n"
      ]
    },
    {
      "cell_type": "code",
      "metadata": {
        "id": "aI5tPx0RCa-a",
        "colab_type": "code",
        "outputId": "acbd6e9c-67ed-4cbb-a14d-708e7f4487ae",
        "colab": {
          "base_uri": "https://localhost:8080/",
          "height": 68
        }
      },
      "source": [
        "myStack = []\n",
        "myStack.append('a')\n",
        "myStack.append('b')\n",
        "myStack.append('c')\n",
        "print(myStack)\n",
        "myStack.pop()\n",
        "print(myStack)\n",
        "myStack.pop()\n",
        "print(myStack)\n",
        "myStack.appendleft(\"x\")"
      ],
      "execution_count": 0,
      "outputs": [
        {
          "output_type": "stream",
          "text": [
            "['a', 'b', 'c']\n",
            "['a', 'b']\n",
            "['a']\n"
          ],
          "name": "stdout"
        }
      ]
    },
    {
      "cell_type": "markdown",
      "metadata": {
        "id": "dBupPL9yuEM7",
        "colab_type": "text"
      },
      "source": [
        "- method 2 using python collections.deque"
      ]
    },
    {
      "cell_type": "code",
      "metadata": {
        "id": "inL_HfJ7uDUh",
        "colab_type": "code",
        "outputId": "2b4220e1-894e-4c73-b7c2-72bec92302c1",
        "colab": {
          "base_uri": "https://localhost:8080/",
          "height": 121
        }
      },
      "source": [
        "from collections import deque\n",
        "myStack = deque()\n",
        "print(not myStack)\n",
        "myStack.append('a')\n",
        "myStack.append('b')\n",
        "myStack.append('c')\n",
        "myStack.append('a')\n",
        "print(myStack)\n",
        "myStack.extend(['a', 'b', 'a', 'c']) #appending elements from the iterable argument\n",
        "print(\"length of stack is {}\".format(len(myStack)))\n",
        "print(myStack.count('a'))\n",
        "print(list(myStack))\n",
        "print(myStack.pop())"
      ],
      "execution_count": 0,
      "outputs": [
        {
          "output_type": "stream",
          "text": [
            "True\n",
            "deque(['a', 'b', 'c', 'a'])\n",
            "length of stack is 8\n",
            "4\n",
            "['a', 'b', 'c', 'a', 'a', 'b', 'a', 'c']\n",
            "c\n"
          ],
          "name": "stdout"
        }
      ]
    },
    {
      "cell_type": "markdown",
      "metadata": {
        "id": "ypwqQcXhGPFu",
        "colab_type": "text"
      },
      "source": [
        "## ☆ deque\n",
        "- First in/ First out (very like Java's LinkedList)\n",
        "- Complexity:\n",
        " - extend:O(k) \n",
        " - extendleft: O(K)\n",
        " - pop: O(1)\n",
        " - popleft: O(1)\n",
        " - rotate: O(K)\n"
      ]
    },
    {
      "cell_type": "code",
      "metadata": {
        "id": "1-CDIj6VGWv4",
        "colab_type": "code",
        "outputId": "06631a74-f9d2-4274-bf1e-46b619f21c01",
        "colab": {
          "base_uri": "https://localhost:8080/",
          "height": 136
        }
      },
      "source": [
        "from collections import deque \n",
        "queue = deque([\"Ram\", \"Tarun\", \"Asif\", \"John\"]) \n",
        "print(queue) \n",
        "queue.append(\"Akbar\") \n",
        "print(queue) \n",
        "queue.append(\"Birbal\") \n",
        "print(queue) \n",
        "print(queue.popleft())                  \n",
        "print(queue.popleft())                  \n",
        "print(queue.pop())\n",
        "print(queue) "
      ],
      "execution_count": 0,
      "outputs": [
        {
          "output_type": "stream",
          "text": [
            "deque(['Ram', 'Tarun', 'Asif', 'John'])\n",
            "deque(['Ram', 'Tarun', 'Asif', 'John', 'Akbar'])\n",
            "deque(['Ram', 'Tarun', 'Asif', 'John', 'Akbar', 'Birbal'])\n",
            "Ram\n",
            "Tarun\n",
            "Birbal\n",
            "deque(['Asif', 'John', 'Akbar'])\n"
          ],
          "name": "stdout"
        }
      ]
    },
    {
      "cell_type": "markdown",
      "metadata": {
        "id": "SHjWAGbCTXIW",
        "colab_type": "text"
      },
      "source": [
        "- rotation"
      ]
    },
    {
      "cell_type": "code",
      "metadata": {
        "id": "7fctQXKtTiYp",
        "colab_type": "code",
        "outputId": "7392ad2a-9c38-447a-feed-075299eef30a",
        "colab": {
          "base_uri": "https://localhost:8080/",
          "height": 85
        }
      },
      "source": [
        "from collections import deque\n",
        "dq = deque(range(10), maxlen  =10)\n",
        "print(dq)\n",
        "dq.rotate(3)\n",
        "print(dq)\n",
        "dq.rotate(-4)\n",
        "print(dq)\n",
        "dq.extend([11, 22, 33])\n",
        "print(dq)"
      ],
      "execution_count": 0,
      "outputs": [
        {
          "output_type": "stream",
          "text": [
            "deque([0, 1, 2, 3, 4, 5, 6, 7, 8, 9], maxlen=10)\n",
            "deque([7, 8, 9, 0, 1, 2, 3, 4, 5, 6], maxlen=10)\n",
            "deque([1, 2, 3, 4, 5, 6, 7, 8, 9, 0], maxlen=10)\n",
            "deque([4, 5, 6, 7, 8, 9, 0, 11, 22, 33], maxlen=10)\n"
          ],
          "name": "stdout"
        }
      ]
    },
    {
      "cell_type": "markdown",
      "metadata": {
        "id": "DiiKXyBKQHhp",
        "colab_type": "text"
      },
      "source": [
        "## ☆ Heap queue (heapq, or priority queue)\n",
        "- time: O(min(k,N)) + k*O(log(min(k,N)))，space：O(min(k,N))"
      ]
    },
    {
      "cell_type": "code",
      "metadata": {
        "id": "rDmdeMd4QXIW",
        "colab_type": "code",
        "outputId": "40b9d0c5-d615-40ea-f738-dfbb4b0616c6",
        "colab": {
          "base_uri": "https://localhost:8080/",
          "height": 34
        }
      },
      "source": [
        "import heapq \n",
        "li = [5, 7, 9, 1, 3] \n",
        "heapq.heapify(li)\n",
        "heapq.heappush(li,4) \n",
        "print(li)"
      ],
      "execution_count": 0,
      "outputs": [
        {
          "output_type": "stream",
          "text": [
            "[1, 3, 4, 7, 5, 9]\n"
          ],
          "name": "stdout"
        }
      ]
    },
    {
      "cell_type": "code",
      "metadata": {
        "id": "rFTcI2UCQsWv",
        "colab_type": "code",
        "outputId": "f17f629c-ac60-4d22-8b57-1deba07236ea",
        "colab": {
          "base_uri": "https://localhost:8080/",
          "height": 34
        }
      },
      "source": [
        "heapq.heappop(li)\n",
        "print(li)"
      ],
      "execution_count": 0,
      "outputs": [
        {
          "output_type": "stream",
          "text": [
            "[3, 5, 4, 7, 9]\n"
          ],
          "name": "stdout"
        }
      ]
    },
    {
      "cell_type": "code",
      "metadata": {
        "id": "9aY_Oqg2ROfn",
        "colab_type": "code",
        "outputId": "48a810c7-a4d4-42a0-e8a6-23805b2d9338",
        "colab": {
          "base_uri": "https://localhost:8080/",
          "height": 85
        }
      },
      "source": [
        "print (heapq.heappushpop(li, 2)) \n",
        "print(li)\n",
        "print (heapq.heapreplace(li, 6)) \n",
        "print(li)"
      ],
      "execution_count": 0,
      "outputs": [
        {
          "output_type": "stream",
          "text": [
            "2\n",
            "[3, 5, 4, 7, 9]\n",
            "3\n",
            "[4, 5, 6, 7, 9]\n"
          ],
          "name": "stdout"
        }
      ]
    },
    {
      "cell_type": "code",
      "metadata": {
        "id": "cxNktufIRlvU",
        "colab_type": "code",
        "outputId": "5f9d7d47-3fb8-4ff2-f837-a0dededf8f04",
        "colab": {
          "base_uri": "https://localhost:8080/",
          "height": 51
        }
      },
      "source": [
        "import heapq \n",
        "li1 = [6, 7, 9, 4, 3, 5, 8, 10, 1] \n",
        "heapq.heapify(li1) \n",
        "print(\"The 3 largest numbers in list are : \",end=\"\") \n",
        "print(heapq.nlargest(3, li1)) \n",
        "print(\"The 3 smallest numbers in list are : \",end=\"\") \n",
        "print(heapq.nsmallest(3, li1))"
      ],
      "execution_count": 0,
      "outputs": [
        {
          "output_type": "stream",
          "text": [
            "The 3 largest numbers in list are : [10, 9, 8]\n",
            "The 3 smallest numbers in list are : [1, 3, 4]\n"
          ],
          "name": "stdout"
        }
      ]
    },
    {
      "cell_type": "code",
      "metadata": {
        "id": "6aWXf2mmjbly",
        "colab_type": "code",
        "colab": {}
      },
      "source": [
        "import heapq\n",
        "\n",
        "class MyHeap(object):\n",
        "   def __init__(self, initial=None, key=lambda x:x):\n",
        "       self.key = key\n",
        "       if initial:\n",
        "           self._data = [(key(item), item) for item in initial]\n",
        "           heapq.heapify(self._data)\n",
        "       else:\n",
        "           self._data = []\n",
        "\n",
        "   def push(self, item):\n",
        "       heapq.heappush(self._data, (self.key(item), item))\n",
        "\n",
        "   def pop(self):\n",
        "       return heapq.heappop(self._data)[1]"
      ],
      "execution_count": 0,
      "outputs": []
    },
    {
      "cell_type": "markdown",
      "metadata": {
        "id": "nw9gxeGzXkqY",
        "colab_type": "text"
      },
      "source": [
        "manually create a heap (maxheap and minheap)"
      ]
    },
    {
      "cell_type": "code",
      "metadata": {
        "id": "l5M911GJXjl2",
        "colab_type": "code",
        "colab": {}
      },
      "source": [
        "class Heap:\n",
        "    def __init__(self, cmp):\n",
        "        self.cmp = cmp\n",
        "        self.heap = [None]\n",
        "\n",
        "    def __swap__(self, x, y, a):\n",
        "        a[x], a[y] = a[y], a[x]\n",
        "\n",
        "    def size(self):\n",
        "        return len(self.heap) - 1\n",
        "\n",
        "    def top(self):\n",
        "        return self.heap[1] if self.size() else None\n",
        "\n",
        "    def append(self, num):\n",
        "        self.heap.append(num)\n",
        "        self.siftUp(self.size())\n",
        "\n",
        "    def pop(self):\n",
        "        top, last = self.heap[1], self.heap.pop()\n",
        "        if self.size():\n",
        "            self.heap[1] = last\n",
        "            self.siftDown(1)\n",
        "        return top\n",
        "        \n",
        "    # make it ascending order\n",
        "    def siftUp(self, idx):\n",
        "        while idx > 1 and self.cmp(idx, int(idx / 2), self.heap):\n",
        "            self.__swap__(int(idx / 2), idx, self.heap)\n",
        "            idx = idx // 2\n",
        "\n",
        "    def siftDown(self, idx):\n",
        "        while idx * 2 <= self.size():\n",
        "            nidx = idx * 2\n",
        "            if nidx + 1 <= self.size() and self.cmp(nidx + 1, nidx, self.heap):\n",
        "                nidx += 1\n",
        "            if self.cmp(nidx, idx, self.heap):\n",
        "                self.__swap__(nidx, idx, self.heap)\n",
        "                idx = nidx\n",
        "            else:\n",
        "                break"
      ],
      "execution_count": 0,
      "outputs": []
    },
    {
      "cell_type": "code",
      "metadata": {
        "id": "BEv8lHPwajsL",
        "colab_type": "code",
        "outputId": "747282b6-117a-45fa-eb01-ed95145866df",
        "colab": {
          "base_uri": "https://localhost:8080/",
          "height": 34
        }
      },
      "source": [
        "print(int(2.5))"
      ],
      "execution_count": 0,
      "outputs": [
        {
          "output_type": "stream",
          "text": [
            "2\n"
          ],
          "name": "stdout"
        }
      ]
    },
    {
      "cell_type": "code",
      "metadata": {
        "id": "h6vgUxGhX9ry",
        "colab_type": "code",
        "outputId": "8c80ea8d-eacf-4d81-cf5d-570b07f926d6",
        "colab": {
          "base_uri": "https://localhost:8080/",
          "height": 272
        }
      },
      "source": [
        "a = Heap(cmp = lambda x, y, a: a[x] < a[y])\n",
        "print(a)\n",
        "for item in [5, 4, 3, 3, 7, 6]:\n",
        "    print(item)\n",
        "    print(a.heap)\n",
        "    a.append(item)\n",
        "print(\"stop\")\n",
        "print(a.pop())\n"
      ],
      "execution_count": 0,
      "outputs": [
        {
          "output_type": "stream",
          "text": [
            "<__main__.Heap object at 0x7f00ba77cdd8>\n",
            "5\n",
            "[None]\n",
            "4\n",
            "[None, 5]\n",
            "3\n",
            "[None, 4, 5]\n",
            "3\n",
            "[None, 3, 5, 4]\n",
            "7\n",
            "[None, 3, 3, 4, 5]\n",
            "6\n",
            "[None, 3, 3, 4, 5, 7]\n",
            "stop\n",
            "3\n"
          ],
          "name": "stdout"
        }
      ]
    },
    {
      "cell_type": "markdown",
      "metadata": {
        "id": "MWlh-OGsy3XY",
        "colab_type": "text"
      },
      "source": [
        "## ☆ Set\n",
        "- Difference"
      ]
    },
    {
      "cell_type": "code",
      "metadata": {
        "id": "52t0mQQcy2Fg",
        "colab_type": "code",
        "outputId": "cb1143e3-43f9-426e-95ad-777349c3ca8a",
        "colab": {
          "base_uri": "https://localhost:8080/",
          "height": 51
        }
      },
      "source": [
        "a = {1, 2, 3, 4, 5}\n",
        "b = {1, 2}\n",
        "print(a.difference(b))\n",
        "c = dict()\n",
        "c[1] = \"a\"\n",
        "c[2] = \"b\"\n",
        "c[3] = \"c\"\n",
        "print(a.difference(c))"
      ],
      "execution_count": 0,
      "outputs": [
        {
          "output_type": "stream",
          "text": [
            "{3, 4, 5}\n",
            "{4, 5}\n"
          ],
          "name": "stdout"
        }
      ]
    }
  ]
}